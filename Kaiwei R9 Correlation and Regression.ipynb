{
 "cells": [
  {
   "cell_type": "code",
   "execution_count": 22,
   "metadata": {},
   "outputs": [],
   "source": [
    "import numpy as np\n",
    "import math\n",
    "import scipy\n",
    "\n",
    "from scipy import stats\n",
    "from math  import sqrt"
   ]
  },
  {
   "attachments": {},
   "cell_type": "markdown",
   "metadata": {},
   "source": [
    "### R9    Correlation and Regression\n",
    "### R10 Multiple Regression and Issues in Regression Analysis\n",
    "### R11 Time-Series Analysis\n",
    "### R12 Excerpt from “Probabilistic Approaches: Scenario Analysis, Decision Trees, and Simulation”"
   ]
  },
  {
   "cell_type": "markdown",
   "metadata": {},
   "source": [
    "2019 年会加入算法交易在数量中"
   ]
  },
  {
   "cell_type": "markdown",
   "metadata": {},
   "source": [
    "复习一级知识：\n",
    "\n",
    "<font color = blue>\n",
    "* 首先理解是原假设，什么是备择假设\n",
    "* 选择合适的检验水平\n",
    "* test statistic 检验统计值\n",
    "\n",
    "<font color = red>\n",
    "\\begin{aligned}\n",
    "Test-statistic &= {\\frac{Δ - 猜测 }{S_Δ} }\n",
    "\\\\\n",
    "\\\\\n",
    " &= {\\frac{Δ - 猜测 }{ Stand-Error} }\n",
    "\\\\\n",
    "\\\\   \n",
    "Stand-Error\n",
    "    \\\\\n",
    "S_Δ &= {\\frac{S_x}{\\sqrt n}}\n",
    "\\end{aligned}\n",
    "\n",
    "<font color = blue>\n",
    "* 拒绝域，查询T表\n",
    "* M 非常大的时候，趋向于正态分布\n",
    "* df = n - 1\n",
    "* df > 30 可以查询Z表"
   ]
  },
  {
   "cell_type": "markdown",
   "metadata": {},
   "source": [
    "## R9    Correlation and Regression"
   ]
  },
  {
   "cell_type": "markdown",
   "metadata": {},
   "source": [
    "* 这一个部分还是在讲回归的方法, CFA 以线性关系为主\n",
    "* Scatter Plot 是一种不太精确的方法\n",
    "* 精确的方法是 找相关系数\n",
    "\n",
    "### Covariance\n",
    "\n",
    "\n",
    "<font color = red>\n",
    "\\begin{aligned}\n",
    "Cov(X,Y) &=  {\\frac{\\sum_{i=1}^{n} (X_i - \\mu X) (Y_i - \\mu Y)}{n-1} }\n",
    "\\\\\n",
    "\\end{aligned}\n",
    "</font>\n",
    "\n",
    "### Correlation\n",
    "* 二级主要写的都是样本协方差 sample correlation\n",
    "* 上一行公式是样本，下一行是总体\n",
    "<font color = red>\n",
    "\\begin{aligned}\n",
    "r &= {\\frac{Cov(X,Y) }{S_x S_y} }\n",
    "\\\\\n",
    "\\\\\n",
    "\\rho &= {\\frac{Cov(X,Y) }{\\sigma_x \\sigma_y} }\n",
    "\\\\\n",
    "\\end{aligned}\n",
    "    \n",
    "<font color = blue>\n",
    "* correlation coefficient is a meausre of linear association   \n",
    "* It is a simple number with no unit of measurement attached"
   ]
  },
  {
   "cell_type": "markdown",
   "metadata": {},
   "source": [
    "### Significance Test of the Correlation\n",
    "* 所有\n",
    "\n",
    "* Step 1: $ H_0: \\rho = 0; H_a: \\rho != 0 $\n",
    "* Step 2: Test Statistic\n",
    "<font color = red>\n",
    "\\begin{aligned}\n",
    "t &=  {\\frac{r - \\rho}{ \\sqrt {\\frac{1 - r^2}{n-2} }} }\n",
    "\\\\\n",
    "df &= n - 2\n",
    "\\end{aligned}\n",
    "</font>\n",
    "\n",
    "\n",
    "* Step 3: Decision rule: reject $H_0 $: if   $|t| > + t_{statistic} $"
   ]
  },
  {
   "cell_type": "markdown",
   "metadata": {},
   "source": [
    "* 如果样本容量不大于30，都是用 t分布，也就是后面的 `interval(alpha, df, loc=0, scale=1)`\n",
    "* 等号拒绝的判断，就是双尾的情况 `two tailed test` \n",
    "* correlation 是 `df = n - 2`\n",
    "\n",
    "\n",
    "Correlation 有三个limitations：\n",
    "\n",
    "* Outlier：\n",
    "    * 异常值加入了考虑，就是某个值偏离特别大 small number with extreme value\n",
    "    * 需要主观判断\n",
    "\n",
    "* Spurious Correlation: \n",
    "    * 伪相关\n",
    "    * Spurious Correlation: chance relationship 偶然相关，无法用经济学知识判断\n",
    "    * Spurious Correlation: correlation induced by a calculation that mixes with each of two variables with a third 两个变量之间没有关系，除了第三个变量，变得有关系了。总量没有关系，人均有关系，并不能说明问题.\n",
    "    * Spurious Correlation: correlation 提高，但是两者之间不是direct relation，而是有第三个相关因素在影响 \n",
    "    \n",
    "* Non-Linear \n",
    "    * 很容易理解\n",
    "    "
   ]
  },
  {
   "cell_type": "markdown",
   "metadata": {},
   "source": [
    "### Linear Regression\n",
    "\n",
    "Explanation:\n",
    "* An estimated slope coefficient of 2 would indicate that the dependant variable will change two units for every 1 unit change in independent variable\n",
    "\n",
    "Assumption：\n",
    "* X 和 Y 有线性关系 correlation\n",
    "* X is not random \n",
    "* X is uncorrelated with the error term X和误差项是随机的\n",
    "* the expected value of the error term is 0\n",
    "* the variance of error term is constant, homoskedastic 同方差性\n",
    "* the error term is uncorrelated across observations 随机数和随机数之间是没有关系的\n",
    "* the error term is normally distributed\n",
    "\n",
    "### Ordinary Least Squares(OLS)\n",
    "* \n",
    "* the least squares estimates in this case are given by simple formulas\n",
    "<font color = red>\n",
    "$$\n",
    "    \\hat\\beta = \\frac{ \\sum{x_iy_i} - \\frac{1}{n}\\sum{x_i}\\sum{y_i} }\n",
    "                     { \\sum{x_i^2} - \\frac{1}{n}(\\sum{x_i})^2 } =  \\frac{ \\operatorname{Cov}[x,y] }{ \\operatorname{Var}[x]} , \\quad\n",
    "    \\hat\\alpha = \\overline{y} - \\hat\\beta\\,\\overline{x}\\ \n",
    "    $$\n",
    "</font>\n",
    "* $(\\overline{y}, \\overline{x})$ 在回归线上"
   ]
  },
  {
   "cell_type": "markdown",
   "metadata": {},
   "source": [
    "### Analysis of Variance (ANOVA) Table\n",
    "* SSE Sum of Squared Errors of Residuals \n",
    "* RSS Regression Sum of Squares\n",
    "* TSS Total Sum of Square\n",
    "\n",
    "|df | SS | MSS\n",
    "--|--|--|\n",
    "Regression | k = 1| RSS | MSR = RSS/k\n",
    "Error | n - 2 | SSE | MSE = SSE/(n-2)\n",
    "Total | n - 1 | SST| -"
   ]
  },
  {
   "cell_type": "markdown",
   "metadata": {},
   "source": [
    "### Significance Test of the Correlation Example"
   ]
  },
  {
   "cell_type": "code",
   "execution_count": 46,
   "metadata": {},
   "outputs": [],
   "source": [
    "cov   = 16\n",
    "std_x = 4\n",
    "std_y = 8\n",
    "n     = 20\n",
    "rho   = 0     # 这里检验是否0\n",
    "l     = 0.05\n",
    "cor   = cov / (std_x*std_y)"
   ]
  },
  {
   "cell_type": "code",
   "execution_count": 51,
   "metadata": {},
   "outputs": [],
   "source": [
    "def Significance_Test(cor, n, l, rho):\n",
    "    t     = (cor - rho) / sqrt((1-cor**2)/(n-2))\n",
    "    t     = round(t,4)\n",
    "    print(t)\n",
    "   \n",
    "    interval = stats.t.interval(1-l,n-2)\n",
    "    interval = round(interval[1],3)\n",
    "    print([-interval,interval])\n",
    "    if interval > t:\n",
    "        return \"cannot reject the null hypothesis\"\n",
    "    else: \n",
    "        return \"sufficient to reject the null hypothesis\""
   ]
  },
  {
   "cell_type": "code",
   "execution_count": 52,
   "metadata": {},
   "outputs": [
    {
     "name": "stdout",
     "output_type": "stream",
     "text": [
      "2.4495\n",
      "[-2.101, 2.101]\n"
     ]
    },
    {
     "data": {
      "text/plain": [
       "'sufficient to reject the null hypothesis'"
      ]
     },
     "execution_count": 52,
     "metadata": {},
     "output_type": "execute_result"
    }
   ],
   "source": [
    "Significance_Test(cor, n, l, rho)"
   ]
  },
  {
   "cell_type": "markdown",
   "metadata": {},
   "source": []
  },
  {
   "cell_type": "markdown",
   "metadata": {},
   "source": []
  },
  {
   "cell_type": "markdown",
   "metadata": {},
   "source": []
  },
  {
   "cell_type": "markdown",
   "metadata": {},
   "source": []
  },
  {
   "cell_type": "markdown",
   "metadata": {},
   "source": []
  }
 ],
 "metadata": {
  "kernelspec": {
   "display_name": "Python 3",
   "language": "python",
   "name": "python3"
  },
  "language_info": {
   "codemirror_mode": {
    "name": "ipython",
    "version": 3
   },
   "file_extension": ".py",
   "mimetype": "text/x-python",
   "name": "python",
   "nbconvert_exporter": "python",
   "pygments_lexer": "ipython3",
   "version": "3.6.4"
  }
 },
 "nbformat": 4,
 "nbformat_minor": 2
}
